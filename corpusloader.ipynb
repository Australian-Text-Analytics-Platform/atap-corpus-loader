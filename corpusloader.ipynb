{
 "cells": [
  {
   "cell_type": "code",
   "execution_count": null,
   "id": "3c839c8e77e807b7",
   "metadata": {
    "collapsed": false,
    "jupyter": {
     "outputs_hidden": false
    }
   },
   "outputs": [],
   "source": [
    "from atap_corpus_loader import CorpusLoader\n",
    "corpus_loader: CorpusLoader = CorpusLoader(\"tests/test_data\", include_meta_loader=True, include_oni_loader=True, run_logger=True)\n",
    "corpus_loader"
   ]
  }
 ],
 "metadata": {
  "kernelspec": {
   "display_name": "loader",
   "language": "python",
   "name": "loader"
  },
  "language_info": {
   "codemirror_mode": {
    "name": "ipython",
    "version": 3
   },
   "file_extension": ".py",
   "mimetype": "text/x-python",
   "name": "python",
   "nbconvert_exporter": "python",
   "pygments_lexer": "ipython3",
   "version": "3.11.9"
  }
 },
 "nbformat": 4,
 "nbformat_minor": 5
}
