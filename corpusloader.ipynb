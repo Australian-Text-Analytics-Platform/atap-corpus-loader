{
 "cells": [
  {
   "metadata": {},
   "cell_type": "markdown",
   "source": [
    "# ATAP Corpus Loader\n",
    "\n",
    "See the [user guide](Corpus%20Loader%20User%20Guide.pdf) for detailed instructions and hover over the tooltips in the loader for simplified instructions on how to load and build the corpus.\n",
    "\n",
    "To start using the Corpus Loader, run the cell below - click on a cell and press control+enter keys to run it\n"
   ],
   "id": "3bab6326815712f5"
  },
  {
   "cell_type": "code",
   "id": "3c839c8e77e807b7",
   "metadata": {
    "collapsed": false,
    "jupyter": {
     "outputs_hidden": false
    }
   },
   "source": [
    "from atap_corpus_loader import CorpusLoader\n",
    "corpus_loader: CorpusLoader = CorpusLoader(\"corpus_files\", include_meta_loader=True, include_oni_loader=True)\n",
    "corpus_loader"
   ],
   "outputs": [],
   "execution_count": null
  },
  {
   "cell_type": "markdown",
   "id": "73649ca715180093",
   "metadata": {},
   "source": [
    "## Word count analysis tool\n",
    "The following cell is a simple analysis tool used to demonstrate one way the corpus loader can integrate with a tool. Run the cell after you have built a corpus above to view the word count statistics"
   ]
  },
  {
   "cell_type": "code",
   "id": "b77e9641d8712053",
   "metadata": {},
   "source": [
    "def get_word_count(doc):\n",
    "    return len(doc.split(' '))\n",
    "\n",
    "corpus = corpus_loader.get_latest_corpus()\n",
    "if corpus is None:\n",
    "    print(\"No corpus built. Use the loader above to build a corpus and then rerun this cell\")\n",
    "else:\n",
    "    word_counts = corpus.docs().apply(get_word_count)\n",
    "    print(f\"\"\"Word count stats for corpus {corpus.name}:\n",
    "\n",
    "    Total word count in corpus: {word_counts.sum()}\n",
    "    Average word count per document: {word_counts.mean()}\n",
    "    Highest word count: {word_counts.max()}\n",
    "    Lowest word count: {word_counts.min()}\"\"\")"
   ],
   "outputs": [],
   "execution_count": null
  }
 ],
 "metadata": {
  "kernelspec": {
   "display_name": "Python 3 (ipykernel)",
   "language": "python",
   "name": "python3"
  },
  "language_info": {
   "codemirror_mode": {
    "name": "ipython",
    "version": 3
   },
   "file_extension": ".py",
   "mimetype": "text/x-python",
   "name": "python",
   "nbconvert_exporter": "python",
   "pygments_lexer": "ipython3",
   "version": "3.11.8"
  }
 },
 "nbformat": 4,
 "nbformat_minor": 5
}
